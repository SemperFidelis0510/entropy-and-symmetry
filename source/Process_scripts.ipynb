{
 "cells": [
  {
   "cell_type": "markdown",
   "source": [
    "# Running on virtual machine, processing all image on all methods\n",
    "main(dst_folder=None, src_folder=None, process_methods_with_params=None,\n",
    "         head=None, max_queue_size=None, single_batch_size=None, callback=None, processed_level=None)"
   ],
   "metadata": {
    "collapsed": false
   },
   "id": "7ec3810e1281fd02"
  },
  {
   "cell_type": "code",
   "execution_count": null,
   "outputs": [],
   "source": [
    "from source.main import main\n",
    "src_folder = '../datasets/classified_pictures'\n",
    "dst_folder = '../processed/all_results'\n",
    "max_queue_size = 40      # For every how many results will be saved to disk\n",
    "single_batch_size = 1000 # How many image in process for each batch\n",
    "processed_level = 2      # level, 0, 1, 2\n",
    "main(dst_folder=dst_folder, src_folder=src_folder, max_queue_size=max_queue_size, \n",
    "     single_batch_size=single_batch_size, processed_level=processed_level)"
   ],
   "metadata": {
    "collapsed": false
   },
   "id": "b0c1b4f49f7c7c05"
  }
 ],
 "metadata": {
  "kernelspec": {
   "display_name": "Python 3",
   "language": "python",
   "name": "python3"
  },
  "language_info": {
   "codemirror_mode": {
    "name": "ipython",
    "version": 2
   },
   "file_extension": ".py",
   "mimetype": "text/x-python",
   "name": "python",
   "nbconvert_exporter": "python",
   "pygments_lexer": "ipython2",
   "version": "2.7.6"
  }
 },
 "nbformat": 4,
 "nbformat_minor": 5
}
